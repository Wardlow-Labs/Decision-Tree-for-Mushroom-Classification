{
 "cells": [
  {
   "cell_type": "markdown",
   "id": "15fd0966-2b13-4b14-9fd3-22bba6cab375",
   "metadata": {},
   "source": [
    "# Decision Tree for Mushroom Classification"
   ]
  },
  {
   "cell_type": "markdown",
   "id": "77000e73-dc76-49a1-ad97-a4f772bc525c",
   "metadata": {},
   "source": [
    "## Outline"
   ]
  },
  {
   "cell_type": "markdown",
   "id": "2fb6b933-0fdd-437a-aa91-13cb68eabeae",
   "metadata": {},
   "source": [
    "(Fill in this outline at the end)"
   ]
  },
  {
   "cell_type": "markdown",
   "id": "f79bb7e5-e988-405f-9f9f-c8018fae61f9",
   "metadata": {},
   "source": [
    "## Import Packages"
   ]
  },
  {
   "cell_type": "code",
   "execution_count": null,
   "id": "ddc97e8b-8d70-4461-9482-e5d997703780",
   "metadata": {},
   "outputs": [],
   "source": []
  }
 ],
 "metadata": {
  "kernelspec": {
   "display_name": "Python 3 (ipykernel)",
   "language": "python",
   "name": "python3"
  },
  "language_info": {
   "codemirror_mode": {
    "name": "ipython",
    "version": 3
   },
   "file_extension": ".py",
   "mimetype": "text/x-python",
   "name": "python",
   "nbconvert_exporter": "python",
   "pygments_lexer": "ipython3",
   "version": "3.11.4"
  }
 },
 "nbformat": 4,
 "nbformat_minor": 5
}
